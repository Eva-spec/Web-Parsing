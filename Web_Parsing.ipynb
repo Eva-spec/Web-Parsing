{
  "nbformat": 4,
  "nbformat_minor": 0,
  "metadata": {
    "colab": {
      "name": "Web Parsing",
      "provenance": []
    },
    "kernelspec": {
      "name": "python3",
      "display_name": "Python 3"
    },
    "language_info": {
      "name": "python"
    }
  },
  "cells": [
    {
      "cell_type": "code",
      "metadata": {
        "id": "a2GObPxEHvuX"
      },
      "source": [
        "#Requirements\n",
        "#pip3 install requests\n",
        "#pip3 install bs4"
      ],
      "execution_count": 19,
      "outputs": []
    },
    {
      "cell_type": "markdown",
      "metadata": {
        "id": "NcBX_LV4JRKw"
      },
      "source": [
        "## **Essentials of Web Scraping**"
      ]
    },
    {
      "cell_type": "code",
      "metadata": {
        "colab": {
          "base_uri": "https://localhost:8080/"
        },
        "id": "6U08UVGyJHYx",
        "outputId": "09c423b4-a536-43ac-8ec6-666d7897eed6"
      },
      "source": [
        "# import these two modules bs4 for selecting HTML tags easily\n",
        "from bs4 import BeautifulSoup\n",
        "# requests module is easy to operate some people use urllib but I prefer this one because it is easy to use.\n",
        "import requests\n",
        "\n",
        "# I put here my own blog url ,you can change it.\n",
        "url=\"https://codex.wordpress.org/Database_Description\"\n",
        "\n",
        "#Requests module use to data from given url\n",
        "source=requests.get(url)\n",
        "\n",
        "# BeautifulSoup is used for getting HTML structure from requests response.(craete your soup)\n",
        "soup=BeautifulSoup(source.text,'html')\n",
        "\n",
        "# Find function is used to find a single element if there are more than once it always returns the first element.\n",
        "title=soup.find('title') # place your html tagg in parentheses that you want to find from html.\n",
        "print(\"this is with html tags :\",title)\n",
        "\n",
        "qwery=soup.find('h1') # here i find first h1 tagg in my website using find operation.\n",
        "\n",
        "#use .text for extract only text without any html tags\n",
        "print(\"this is without html tags:\",qwery.text) \n",
        "\n",
        "\n",
        "links=soup.find('a') #i extarcted link using \"a\" tag\n",
        "print(links)"
      ],
      "execution_count": 21,
      "outputs": [
        {
          "output_type": "stream",
          "text": [
            "this is with html tags : <title>Database Description « WordPress Codex</title>\n",
            "this is without html tags: WordPress.org\n",
            "<a href=\"//wordpress.org\">WordPress.org</a>\n"
          ],
          "name": "stdout"
        }
      ]
    },
    {
      "cell_type": "markdown",
      "metadata": {
        "id": "np175zZUKpfB"
      },
      "source": [
        "##**Extract Data from HTML(Inner)**"
      ]
    },
    {
      "cell_type": "code",
      "metadata": {
        "colab": {
          "base_uri": "https://localhost:8080/"
        },
        "id": "HWiaF8IlJhTF",
        "outputId": "61264a77-46e2-458d-a5a7-52e8a5f8d946"
      },
      "source": [
        "# here i extarcted href data from anchor tag.\n",
        "print(links['href'])"
      ],
      "execution_count": 22,
      "outputs": [
        {
          "output_type": "stream",
          "text": [
            "//wordpress.org\n"
          ],
          "name": "stdout"
        }
      ]
    },
    {
      "cell_type": "markdown",
      "metadata": {
        "id": "jiMRulV4LAV0"
      },
      "source": [
        "##**Findall Operation (Bs4)**"
      ]
    },
    {
      "cell_type": "code",
      "metadata": {
        "colab": {
          "base_uri": "https://localhost:8080/"
        },
        "id": "YtrzT5irJphP",
        "outputId": "8cf95157-d0ad-4c76-d220-5e8ff7211976"
      },
      "source": [
        "\n",
        "# findall function is used to fetch all tags at a single time.\n",
        "many_link=soup.find_all('a') # here i extracted all the anchor tags of my website\n",
        "total_links=len(many_link) # len function is use to calculate length of your array\n",
        "print(\"total links in my website :\",total_links)\n",
        "print()\n",
        "for i in many_link[:6]: # here i use slicing to fetch only first 6 links from rest of them.\n",
        "    print(i)"
      ],
      "execution_count": 24,
      "outputs": [
        {
          "output_type": "stream",
          "text": [
            "total links in my website : 358\n",
            "\n",
            "<a href=\"//wordpress.org\">WordPress.org</a>\n",
            "<a data-title=\"See some of the sites built on WordPress.\" href=\"//wordpress.org/showcase/\">Showcase</a>\n",
            "<a data-title=\"Resources to help you learn more about WordPress and teach it to others.\" href=\"//learn.wordpress.org/\">Learn</a>\n",
            "<a data-title=\"Find just the right look for your website.\" href=\"//wordpress.org/themes/\">Themes</a>\n",
            "<a data-title=\"Plugins can extend WordPress to do almost anything you can imagine.\" href=\"//wordpress.org/plugins/\">Plugins</a>\n",
            "<a data-title=\"Take your website on the go!\" href=\"//wordpress.org/mobile/\">Mobile</a>\n"
          ],
          "name": "stdout"
        }
      ]
    },
    {
      "cell_type": "code",
      "metadata": {
        "colab": {
          "base_uri": "https://localhost:8080/"
        },
        "id": "NMsy5TFlJrkP",
        "outputId": "cca0a998-ccf9-42c0-ebce-97f8e8230078"
      },
      "source": [
        "second_link=many_link[1] #here i fetch second link which place on 1 index number in many_links.\n",
        "print(second_link)\n",
        "print()\n",
        "print(\"href is :\",second_link['href']) #only href link is extracted from ancor tag"
      ],
      "execution_count": 25,
      "outputs": [
        {
          "output_type": "stream",
          "text": [
            "<a data-title=\"See some of the sites built on WordPress.\" href=\"//wordpress.org/showcase/\">Showcase</a>\n",
            "\n",
            "href is : //wordpress.org/showcase/\n"
          ],
          "name": "stdout"
        }
      ]
    },
    {
      "cell_type": "markdown",
      "metadata": {
        "id": "D0agl55XLT5B"
      },
      "source": [
        "##**Scraping Data From Wikipedia**"
      ]
    },
    {
      "cell_type": "code",
      "metadata": {
        "colab": {
          "base_uri": "https://localhost:8080/"
        },
        "id": "AgFMsG6qJ2Lg",
        "outputId": "d3c26c79-c85b-4193-d7bf-a1489573b0ea"
      },
      "source": [
        "wiki=requests.get(\"https://en.wikipedia.org/wiki/World_War_II\")\n",
        "soup=BeautifulSoup(wiki.text,'html')\n",
        "print(soup.find('title'))"
      ],
      "execution_count": 27,
      "outputs": [
        {
          "output_type": "stream",
          "text": [
            "<title>World War II - Wikipedia</title>\n"
          ],
          "name": "stdout"
        }
      ]
    },
    {
      "cell_type": "code",
      "metadata": {
        "colab": {
          "base_uri": "https://localhost:8080/"
        },
        "id": "qA4hALykJ54R",
        "outputId": "683eeeb2-0a03-46e5-f41c-5838d5ebf749"
      },
      "source": [
        "\n",
        "ww2_contents=soup.find_all(\"div\",class_='toc')\n",
        "for i in ww2_contents:\n",
        "    print(i.text)"
      ],
      "execution_count": null,
      "outputs": [
        {
          "output_type": "stream",
          "text": [
            "Contents\n",
            "\n",
            "1 Chronology\n",
            "2 Background\n",
            "\n",
            "2.1 Europe\n",
            "2.2 Asia\n",
            "\n",
            "\n",
            "3 Pre-war events\n",
            "\n",
            "3.1 Italian invasion of Ethiopia (1935)\n",
            "3.2 Spanish Civil War (1936–1939)\n",
            "3.3 Japanese invasion of China (1937)\n",
            "3.4 Soviet–Japanese border conflicts\n",
            "3.5 European occupations and agreements\n",
            "\n",
            "\n",
            "4 Course of the war\n",
            "\n",
            "4.1 War breaks out in Europe (1939–40)\n",
            "4.2 Western Europe (1940–41)\n",
            "4.3 Mediterranean (1940–41)\n",
            "4.4 Axis attack on the Soviet Union (1941)\n",
            "4.5 War breaks out in the Pacific (1941)\n",
            "4.6 Axis advance stalls (1942–43)\n",
            "\n",
            "4.6.1 Pacific (1942–43)\n",
            "4.6.2 Eastern Front (1942–43)\n",
            "4.6.3 Western Europe/Atlantic and Mediterranean (1942–43)\n",
            "\n",
            "\n",
            "4.7 Allies gain momentum (1943–44)\n",
            "4.8 Allies close in (1944)\n",
            "4.9 Axis collapse, Allied victory (1944–45)\n",
            "\n",
            "\n",
            "5 Aftermath\n",
            "6 Impact\n",
            "\n",
            "6.1 Casualties and war crimes\n",
            "6.2 Genocide, concentration camps, and slave labour\n",
            "6.3 Occupation\n",
            "6.4 Home fronts and production\n",
            "6.5 Advances in technology and warfare\n",
            "\n",
            "\n",
            "7 See also\n",
            "8 Notes\n",
            "9 Citations\n",
            "10 References\n",
            "11 External links\n",
            "\n",
            "\n"
          ],
          "name": "stdout"
        }
      ]
    },
    {
      "cell_type": "markdown",
      "metadata": {
        "id": "3e0hOk2aLmxB"
      },
      "source": [
        "##**Locating HTML Tags with Classes**"
      ]
    },
    {
      "cell_type": "code",
      "metadata": {
        "colab": {
          "base_uri": "https://localhost:8080/"
        },
        "id": "h-Hp81smJ9bP",
        "outputId": "8c13db7f-38ad-45a8-8bbe-aca07ba4836a"
      },
      "source": [
        "overview=soup.find_all('table',class_='infobox vevent')\n",
        "for z in overview:\n",
        "    print(z.text)"
      ],
      "execution_count": null,
      "outputs": [
        {
          "output_type": "stream",
          "text": [
            "World War II.mw-parser-output .tmulti .thumbinner{display:flex;flex-direction:column}.mw-parser-output .tmulti .trow{display:flex;flex-direction:row;clear:left;flex-wrap:wrap;width:100%;box-sizing:border-box}.mw-parser-output .tmulti .tsingle{margin:1px;float:left}.mw-parser-output .tmulti .theader{clear:both;font-weight:bold;text-align:center;align-self:center;background-color:transparent;width:100%}.mw-parser-output .tmulti .thumbcaption{background-color:transparent}.mw-parser-output .tmulti .text-align-left{text-align:left}.mw-parser-output .tmulti .text-align-right{text-align:right}.mw-parser-output .tmulti .text-align-center{text-align:center}@media all and (max-width:720px){.mw-parser-output .tmulti .thumbinner{width:100%!important;box-sizing:border-box;max-width:none!important;align-items:center}.mw-parser-output .tmulti .trow{justify-content:center}.mw-parser-output .tmulti .tsingle{float:none!important;max-width:100%!important;box-sizing:border-box;text-align:center}.mw-parser-output .tmulti .tsingle .thumbcaption{text-align:left}.mw-parser-output .tmulti .trow>.thumbcaption{text-align:center}}Clockwise from top left: \n",
            "Chinese forces in the Battle of Changde\n",
            "Australian 25-pounder guns during the First Battle of El Alamein\n",
            "German Stuka dive bombers on the Eastern Front in December 1943\n",
            "US naval force in the Lingayen Gulf\n",
            "Wilhelm Keitel signing the German Instrument of Surrender\n",
            "Soviet troops in the Battle of Stalingrad\n",
            "Date1 September 1939 – 2 September 1945 (1939-09-01 – 1945-09-02)[a](6 years and 1 day)LocationEurope, Pacific, Atlantic, Indian Ocean, South-East Asia, China, Japan, Middle East, Mediterranean, North Africa, Horn of Africa, Central Africa, Australia, briefly North and South AmericaResult\n",
            "Allied victory\n",
            "Fall of Nazi Germany, Fascist Italy and Imperial Japan\n",
            "Allied military occupations of Germany, Japan, Austria and foundation of the Italian Republic in place of the Kingdom of Italy\n",
            "Beginning of the Nuclear Age\n",
            "Dissolution of the League of Nations and creation of the United Nations\n",
            "Emergence of the United States and the Soviet Union as rival superpowers and beginning of the Cold War (See Aftermath of World War II)Participants\n",
            "Allies\n",
            "AxisCommanders and leaders\n",
            "Main Allied leaders:\n",
            " Joseph Stalin\n",
            " Franklin D. Roosevelt\n",
            " Winston Churchill\n",
            " Chiang Kai-shek\n",
            "\n",
            "Main Axis leaders:\n",
            " Adolf Hitler\n",
            " Hirohito\n",
            " Benito Mussolini\n",
            "Casualties and losses\n",
            "\n",
            "Military dead:\n",
            "Over 16,000,000\n",
            "Civilian dead:\n",
            "Over 45,000,000\n",
            "Total dead:\n",
            "Over 61,000,000\n",
            "(1937–1945)\n",
            "...further details\n",
            "\n",
            "\n",
            "Military dead:\n",
            "Over 8,000,000\n",
            "Civilian dead:\n",
            "Over 4,000,000\n",
            "Total dead:\n",
            "Over 12,000,000\n",
            "(1937–1945)\n",
            "...further details\n",
            "\n"
          ],
          "name": "stdout"
        }
      ]
    },
    {
      "cell_type": "code",
      "metadata": {
        "colab": {
          "base_uri": "https://localhost:8080/"
        },
        "id": "mnmpm4u0KI5q",
        "outputId": "f6dc6d27-7a6f-4440-86b4-2f1e4cb0aa36"
      },
      "source": [
        "#scrapping specifically with a table example\n",
        "table = soup.table\n",
        "\n",
        "#find the table rows within the table\n",
        "table_rows = table.find_all('tr')\n",
        "\n",
        "# iterate through the rows,find the td tags, and then print out each of the table data tags:\n",
        "for tr in table_rows:\n",
        "    td = tr.find_all('td')\n",
        "    row = [i.text for i in td]\n",
        "    print(row)"
      ],
      "execution_count": null,
      "outputs": [
        {
          "output_type": "stream",
          "text": [
            "[]\n",
            "['.mw-parser-output .tmulti .thumbinner{display:flex;flex-direction:column}.mw-parser-output .tmulti .trow{display:flex;flex-direction:row;clear:left;flex-wrap:wrap;width:100%;box-sizing:border-box}.mw-parser-output .tmulti .tsingle{margin:1px;float:left}.mw-parser-output .tmulti .theader{clear:both;font-weight:bold;text-align:center;align-self:center;background-color:transparent;width:100%}.mw-parser-output .tmulti .thumbcaption{background-color:transparent}.mw-parser-output .tmulti .text-align-left{text-align:left}.mw-parser-output .tmulti .text-align-right{text-align:right}.mw-parser-output .tmulti .text-align-center{text-align:center}@media all and (max-width:720px){.mw-parser-output .tmulti .thumbinner{width:100%!important;box-sizing:border-box;max-width:none!important;align-items:center}.mw-parser-output .tmulti .trow{justify-content:center}.mw-parser-output .tmulti .tsingle{float:none!important;max-width:100%!important;box-sizing:border-box;text-align:center}.mw-parser-output .tmulti .tsingle .thumbcaption{text-align:left}.mw-parser-output .tmulti .trow>.thumbcaption{text-align:center}}Clockwise from top left: \\nChinese forces in the Battle of Changde\\nAustralian 25-pounder guns during the First Battle of El Alamein\\nGerman Stuka dive bombers on the Eastern Front in December 1943\\nUS naval force in the Lingayen Gulf\\nWilhelm Keitel signing the German Instrument of Surrender\\nSoviet troops in the Battle of Stalingrad\\n']\n",
            "['Date1\\xa0September\\xa01939\\xa0– 2\\xa0September\\xa01945\\xa0(1939-09-01\\xa0– 1945-09-02)[a](6\\xa0years and 1\\xa0day)LocationEurope, Pacific, Atlantic, Indian Ocean, South-East Asia, China, Japan, Middle East, Mediterranean, North Africa, Horn of Africa, Central Africa, Australia, briefly North and South AmericaResult\\nAllied victory\\nFall of Nazi Germany, Fascist Italy and Imperial Japan\\nAllied military occupations of Germany, Japan, Austria and foundation of the Italian Republic in place of the Kingdom of Italy\\nBeginning of the Nuclear Age\\nDissolution of the League of Nations and creation of the United Nations\\nEmergence of the United States and the Soviet Union as rival superpowers and beginning of the Cold War (See Aftermath of World War II)', '1\\xa0September\\xa01939\\xa0– 2\\xa0September\\xa01945\\xa0(1939-09-01\\xa0– 1945-09-02)[a](6\\xa0years and 1\\xa0day)', 'Europe, Pacific, Atlantic, Indian Ocean, South-East Asia, China, Japan, Middle East, Mediterranean, North Africa, Horn of Africa, Central Africa, Australia, briefly North and South America', '\\nAllied victory\\nFall of Nazi Germany, Fascist Italy and Imperial Japan\\nAllied military occupations of Germany, Japan, Austria and foundation of the Italian Republic in place of the Kingdom of Italy\\nBeginning of the Nuclear Age\\nDissolution of the League of Nations and creation of the United Nations\\nEmergence of the United States and the Soviet Union as rival superpowers and beginning of the Cold War (See Aftermath of World War II)']\n",
            "['1\\xa0September\\xa01939\\xa0– 2\\xa0September\\xa01945\\xa0(1939-09-01\\xa0– 1945-09-02)[a](6\\xa0years and 1\\xa0day)']\n",
            "['Europe, Pacific, Atlantic, Indian Ocean, South-East Asia, China, Japan, Middle East, Mediterranean, North Africa, Horn of Africa, Central Africa, Australia, briefly North and South America']\n",
            "['\\nAllied victory\\nFall of Nazi Germany, Fascist Italy and Imperial Japan\\nAllied military occupations of Germany, Japan, Austria and foundation of the Italian Republic in place of the Kingdom of Italy\\nBeginning of the Nuclear Age\\nDissolution of the League of Nations and creation of the United Nations\\nEmergence of the United States and the Soviet Union as rival superpowers and beginning of the Cold War (See Aftermath of World War II)']\n",
            "[]\n",
            "['\\nAllies', '\\nAxis']\n",
            "[]\n",
            "['\\nMain Allied leaders:\\n Joseph Stalin\\n Franklin D. Roosevelt\\n Winston Churchill\\n Chiang Kai-shek\\n', '\\nMain Axis leaders:\\n Adolf Hitler\\n Hirohito\\n Benito Mussolini\\n']\n",
            "[]\n",
            "['\\n\\nMilitary dead:\\nOver 16,000,000\\nCivilian dead:\\nOver 45,000,000\\nTotal dead:\\nOver 61,000,000\\n(1937–1945)\\n...further details\\n', '\\n\\nMilitary dead:\\nOver 8,000,000\\nCivilian dead:\\nOver 4,000,000\\nTotal dead:\\nOver 12,000,000\\n(1937–1945)\\n...further details\\n']\n"
          ],
          "name": "stdout"
        }
      ]
    },
    {
      "cell_type": "code",
      "metadata": {
        "colab": {
          "base_uri": "https://localhost:8080/"
        },
        "id": "jGd6BnSkKUiL",
        "outputId": "f17c0ea3-584a-4391-a20a-2f1d44c27cb5"
      },
      "source": [
        "print(\"Project Iterated: Yipee:D\")"
      ],
      "execution_count": null,
      "outputs": [
        {
          "output_type": "stream",
          "text": [
            "Project Iterated: Yipee:D\n"
          ],
          "name": "stdout"
        }
      ]
    }
  ]
}